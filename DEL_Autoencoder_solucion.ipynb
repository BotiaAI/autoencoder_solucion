{
 "cells": [
  {
   "cell_type": "markdown",
   "metadata": {},
   "source": [
    "# Autoencoders (solución)\n",
    "\n",
    "Los autoencoders son algoritmos de compresión. Están compuestos por una función de compresión y una de decompresión y tienen varias aplicaciones.\n",
    "\n",
    "A continuación veremos como se construyen varios ejemplos trabajando con la base de datos MNIST. La [base de datos MNIST](https://en.wikipedia.org/wiki/MNIST_database) cuenta con imágenes de 28x28 pixeles de dígitos escritos a mano.\n",
    "\n",
    "Veremos:\n",
    "1. Simple Autoencoder: El autoencoder más sencillo de todos con una única capa oculta\n",
    "2. Deep Autoencoder: Un autoencoder con más capas ocultas y parámetros entrenables para comparar resultados con el anterior\n",
    "3. Convolutional Autoencoder: Un autoencoder con redes convolucionales\n",
    "4. Denoising de imágenes ruidosas"
   ]
  },
  {
   "cell_type": "markdown",
   "metadata": {},
   "source": [
    "## 1 - Simple Autoencoder\n",
    "A continuación crearemos un autoencoder con una única capa densa como encoder y otra como decoder."
   ]
  },
  {
   "cell_type": "markdown",
   "metadata": {},
   "source": [
    "### Encoder\n",
    "Completar el código debajo para modelar la siguiente red neuronal:\n",
    "1. Capa de input que reciba vectores de imágenes de 28x28\n",
    "2. Una capa densa con función de activación Relu que funcionará como encoder\n",
    "3. Una capa densa con función de activación Sigmoid que funcione como decoder"
   ]
  },
  {
   "cell_type": "markdown",
   "metadata": {},
   "source": [
    "**¿Cuántos parámetros deberá recibir la primera capa de la red? ¿Por qué?**"
   ]
  },
  {
   "cell_type": "markdown",
   "metadata": {},
   "source": [
    "**Respuesta:** 28x28 = 784"
   ]
  },
  {
   "cell_type": "markdown",
   "metadata": {},
   "source": [
    "**¿Cuántos parámetros deberá tener la siguiente capa densa?**"
   ]
  },
  {
   "cell_type": "markdown",
   "metadata": {},
   "source": [
    "**Respuesta:** Es un número arbitrario, 32 por ejemplo"
   ]
  },
  {
   "cell_type": "markdown",
   "metadata": {},
   "source": [
    "**¿Qué determina este parámetro?**"
   ]
  },
  {
   "cell_type": "markdown",
   "metadata": {},
   "source": [
    "**Respuesta:** Determina el factor de compresión del algoritmo"
   ]
  },
  {
   "cell_type": "markdown",
   "metadata": {},
   "source": [
    "**¿Cuántos parámetros deberá tener la última capa de la red? ¿Por qué?**"
   ]
  },
  {
   "cell_type": "markdown",
   "metadata": {},
   "source": [
    "**Respuesta:** Los mismos que la capa de Input para poder reconstruir las imágenes"
   ]
  },
  {
   "cell_type": "code",
   "execution_count": 1,
   "metadata": {},
   "outputs": [
    {
     "name": "stderr",
     "output_type": "stream",
     "text": [
      "Using TensorFlow backend.\n"
     ]
    }
   ],
   "source": [
    "### SOLUCIÓN\n",
    "from keras.layers import Input, Dense\n",
    "from keras.models import Model\n",
    "\n",
    "# Cantidad de nodos de la capa densa del encoder\n",
    "encoding_dim = 32  # 32 => Dado el input de 784 determina un factor de compresión de 24.5\n",
    "\n",
    "#Primera capa de la red neuronal\n",
    "input_img = Input(shape=(784,))\n",
    "#Capa densa de encoder\n",
    "encoded = Dense(encoding_dim, activation='relu')(input_img)\n",
    "#Capa densa de decoder\n",
    "decoded = Dense(784, activation='sigmoid')(encoded)\n",
    "\n",
    "#Modelo de autoencoder completo\n",
    "autoencoder = Model(input_img, decoded)"
   ]
  },
  {
   "cell_type": "code",
   "execution_count": 2,
   "metadata": {
    "collapsed": true
   },
   "outputs": [],
   "source": [
    "# Crearemos un modelo para el encoder por separado para poder utilizarlo independientemente\n",
    "encoder = Model(input_img, encoded)"
   ]
  },
  {
   "cell_type": "markdown",
   "metadata": {},
   "source": [
    "## Decoder\n",
    "De forma análoga al encoder, crearemos un modelo para el decoder. Estará compuesto por una capa de input y la capa de decoder que ya creamos como parte del autoencoder."
   ]
  },
  {
   "cell_type": "markdown",
   "metadata": {},
   "source": [
    "**¿Cuántos parámetros deberá tener la capa input?**"
   ]
  },
  {
   "cell_type": "markdown",
   "metadata": {},
   "source": [
    "**Respuesta:** Deberá tener \"encoding_dim\" parámetros."
   ]
  },
  {
   "cell_type": "code",
   "execution_count": 3,
   "metadata": {
    "collapsed": true
   },
   "outputs": [],
   "source": [
    "### SOLUCIÓN\n",
    "#Primera capa de la red neuronal\n",
    "encoded_input = Input(shape=(encoding_dim,))\n",
    "# Tomaremos la última capa del modelo del autoencoder\n",
    "decoder_layer = autoencoder.layers[-1]\n",
    "\n",
    "#Modelo de decoder completo\n",
    "decoder = Model(encoded_input, decoder_layer(encoded_input))"
   ]
  },
  {
   "cell_type": "markdown",
   "metadata": {},
   "source": [
    "Analicemos un poco mejor los distintos modelos utilizados."
   ]
  },
  {
   "cell_type": "code",
   "execution_count": 4,
   "metadata": {},
   "outputs": [
    {
     "name": "stdout",
     "output_type": "stream",
     "text": [
      "_________________________________________________________________\n",
      "Layer (type)                 Output Shape              Param #   \n",
      "=================================================================\n",
      "input_1 (InputLayer)         (None, 784)               0         \n",
      "_________________________________________________________________\n",
      "dense_1 (Dense)              (None, 32)                25120     \n",
      "=================================================================\n",
      "Total params: 25,120\n",
      "Trainable params: 25,120\n",
      "Non-trainable params: 0\n",
      "_________________________________________________________________\n"
     ]
    }
   ],
   "source": [
    "encoder.summary()"
   ]
  },
  {
   "cell_type": "code",
   "execution_count": 5,
   "metadata": {},
   "outputs": [
    {
     "name": "stdout",
     "output_type": "stream",
     "text": [
      "_________________________________________________________________\n",
      "Layer (type)                 Output Shape              Param #   \n",
      "=================================================================\n",
      "input_2 (InputLayer)         (None, 32)                0         \n",
      "_________________________________________________________________\n",
      "dense_2 (Dense)              (None, 784)               25872     \n",
      "=================================================================\n",
      "Total params: 25,872\n",
      "Trainable params: 25,872\n",
      "Non-trainable params: 0\n",
      "_________________________________________________________________\n"
     ]
    }
   ],
   "source": [
    "decoder.summary()"
   ]
  },
  {
   "cell_type": "code",
   "execution_count": 6,
   "metadata": {},
   "outputs": [
    {
     "name": "stdout",
     "output_type": "stream",
     "text": [
      "_________________________________________________________________\n",
      "Layer (type)                 Output Shape              Param #   \n",
      "=================================================================\n",
      "input_1 (InputLayer)         (None, 784)               0         \n",
      "_________________________________________________________________\n",
      "dense_1 (Dense)              (None, 32)                25120     \n",
      "_________________________________________________________________\n",
      "dense_2 (Dense)              (None, 784)               25872     \n",
      "=================================================================\n",
      "Total params: 50,992\n",
      "Trainable params: 50,992\n",
      "Non-trainable params: 0\n",
      "_________________________________________________________________\n"
     ]
    }
   ],
   "source": [
    "autoencoder.summary()"
   ]
  },
  {
   "cell_type": "markdown",
   "metadata": {},
   "source": [
    "## Entrenamiento\n",
    "Compilar el autoencoder con un optimizador adadelta y pérdida binary_crossentropy."
   ]
  },
  {
   "cell_type": "code",
   "execution_count": 7,
   "metadata": {
    "collapsed": true
   },
   "outputs": [],
   "source": [
    "### SOLUCIÓN\n",
    "autoencoder.compile(optimizer='adadelta', loss='binary_crossentropy')"
   ]
  },
  {
   "cell_type": "markdown",
   "metadata": {},
   "source": [
    "Importaremos la base de datos MNIST que ya viene precargada en Keras"
   ]
  },
  {
   "cell_type": "code",
   "execution_count": 8,
   "metadata": {
    "collapsed": true
   },
   "outputs": [],
   "source": [
    "from keras.datasets import mnist\n",
    "import numpy as np\n",
    "(x_train, _), (x_test, _) = mnist.load_data()"
   ]
  },
  {
   "cell_type": "markdown",
   "metadata": {},
   "source": [
    "Normalizaremos los valores entre 0 y 1 y transformaremos las imágenes (de 28x28) en un vector."
   ]
  },
  {
   "cell_type": "code",
   "execution_count": 9,
   "metadata": {},
   "outputs": [
    {
     "name": "stdout",
     "output_type": "stream",
     "text": [
      "(60000, 784)\n",
      "(10000, 784)\n"
     ]
    }
   ],
   "source": [
    "#Normalización\n",
    "x_train = x_train.astype('float32') / 255.\n",
    "x_test = x_test.astype('float32') / 255.\n",
    "#Flatten\n",
    "x_train = x_train.reshape((len(x_train), np.prod(x_train.shape[1:])))\n",
    "x_test = x_test.reshape((len(x_test), np.prod(x_test.shape[1:])))\n",
    "#Verifico que vectores tienen la forma deseada\n",
    "print(x_train.shape)\n",
    "print(x_test.shape)"
   ]
  },
  {
   "cell_type": "markdown",
   "metadata": {},
   "source": [
    "Ahora sí, entrenaremos el autoencoder con 50 epochs y un batch size de 256."
   ]
  },
  {
   "cell_type": "markdown",
   "metadata": {},
   "source": [
    "**¿Qué utilizaremos como training data y qué como resultado esperado de ese training data? ¿Por qué?**"
   ]
  },
  {
   "cell_type": "markdown",
   "metadata": {},
   "source": [
    "**Respuesta:** x_train será el training y también el resultado esperado"
   ]
  },
  {
   "cell_type": "code",
   "execution_count": 10,
   "metadata": {},
   "outputs": [
    {
     "name": "stdout",
     "output_type": "stream",
     "text": [
      "Train on 60000 samples, validate on 10000 samples\n",
      "Epoch 1/50\n",
      "60000/60000 [==============================] - 3s - loss: 0.3779 - val_loss: 0.2722\n",
      "Epoch 2/50\n",
      "60000/60000 [==============================] - 3s - loss: 0.2641 - val_loss: 0.2527\n",
      "Epoch 3/50\n",
      "60000/60000 [==============================] - 3s - loss: 0.2426 - val_loss: 0.2304\n",
      "Epoch 4/50\n",
      "60000/60000 [==============================] - 3s - loss: 0.2230 - val_loss: 0.2133\n",
      "Epoch 5/50\n",
      "60000/60000 [==============================] - 3s - loss: 0.2080 - val_loss: 0.2004\n",
      "Epoch 6/50\n",
      "60000/60000 [==============================] - 3s - loss: 0.1970 - val_loss: 0.1909\n",
      "Epoch 7/50\n",
      "60000/60000 [==============================] - 3s - loss: 0.1887 - val_loss: 0.1838\n",
      "Epoch 8/50\n",
      "60000/60000 [==============================] - 3s - loss: 0.1823 - val_loss: 0.1780\n",
      "Epoch 9/50\n",
      "60000/60000 [==============================] - 4s - loss: 0.1770 - val_loss: 0.1732\n",
      "Epoch 10/50\n",
      "60000/60000 [==============================] - 4s - loss: 0.1723 - val_loss: 0.1687\n",
      "Epoch 11/50\n",
      "60000/60000 [==============================] - 4s - loss: 0.1681 - val_loss: 0.1647\n",
      "Epoch 12/50\n",
      "60000/60000 [==============================] - 3s - loss: 0.1642 - val_loss: 0.1610\n",
      "Epoch 13/50\n",
      "60000/60000 [==============================] - 3s - loss: 0.1606 - val_loss: 0.1575\n",
      "Epoch 14/50\n",
      "60000/60000 [==============================] - 3s - loss: 0.1572 - val_loss: 0.1541\n",
      "Epoch 15/50\n",
      "60000/60000 [==============================] - 4s - loss: 0.1540 - val_loss: 0.1510\n",
      "Epoch 16/50\n",
      "60000/60000 [==============================] - 4s - loss: 0.1510 - val_loss: 0.1481\n",
      "Epoch 17/50\n",
      "60000/60000 [==============================] - 4s - loss: 0.1481 - val_loss: 0.1452\n",
      "Epoch 18/50\n",
      "60000/60000 [==============================] - 4s - loss: 0.1454 - val_loss: 0.1427\n",
      "Epoch 19/50\n",
      "60000/60000 [==============================] - 4s - loss: 0.1430 - val_loss: 0.1403\n",
      "Epoch 20/50\n",
      "60000/60000 [==============================] - 3s - loss: 0.1407 - val_loss: 0.1382\n",
      "Epoch 21/50\n",
      "60000/60000 [==============================] - 3s - loss: 0.1386 - val_loss: 0.1361\n",
      "Epoch 22/50\n",
      "60000/60000 [==============================] - 3s - loss: 0.1366 - val_loss: 0.1341\n",
      "Epoch 23/50\n",
      "60000/60000 [==============================] - 3s - loss: 0.1347 - val_loss: 0.1324\n",
      "Epoch 24/50\n",
      "60000/60000 [==============================] - 3s - loss: 0.1330 - val_loss: 0.1306\n",
      "Epoch 25/50\n",
      "60000/60000 [==============================] - 3s - loss: 0.1313 - val_loss: 0.1290\n",
      "Epoch 26/50\n",
      "60000/60000 [==============================] - 5s - loss: 0.1296 - val_loss: 0.1274\n",
      "Epoch 27/50\n",
      "60000/60000 [==============================] - 4s - loss: 0.1281 - val_loss: 0.1257\n",
      "Epoch 28/50\n",
      "60000/60000 [==============================] - 3s - loss: 0.1265 - val_loss: 0.1242\n",
      "Epoch 29/50\n",
      "60000/60000 [==============================] - 3s - loss: 0.1250 - val_loss: 0.1227\n",
      "Epoch 30/50\n",
      "60000/60000 [==============================] - 3s - loss: 0.1236 - val_loss: 0.1213\n",
      "Epoch 31/50\n",
      "60000/60000 [==============================] - 3s - loss: 0.1222 - val_loss: 0.1200\n",
      "Epoch 32/50\n",
      "60000/60000 [==============================] - 3s - loss: 0.1208 - val_loss: 0.1186\n",
      "Epoch 33/50\n",
      "60000/60000 [==============================] - 3s - loss: 0.1195 - val_loss: 0.1173\n",
      "Epoch 34/50\n",
      "60000/60000 [==============================] - 3s - loss: 0.1183 - val_loss: 0.1162\n",
      "Epoch 35/50\n",
      "60000/60000 [==============================] - 3s - loss: 0.1171 - val_loss: 0.1149\n",
      "Epoch 36/50\n",
      "60000/60000 [==============================] - 3s - loss: 0.1160 - val_loss: 0.1138\n",
      "Epoch 37/50\n",
      "60000/60000 [==============================] - 3s - loss: 0.1149 - val_loss: 0.1128\n",
      "Epoch 38/50\n",
      "60000/60000 [==============================] - 3s - loss: 0.1139 - val_loss: 0.1118\n",
      "Epoch 39/50\n",
      "60000/60000 [==============================] - 3s - loss: 0.1130 - val_loss: 0.1109\n",
      "Epoch 40/50\n",
      "60000/60000 [==============================] - 3s - loss: 0.1121 - val_loss: 0.1100\n",
      "Epoch 41/50\n",
      "60000/60000 [==============================] - 3s - loss: 0.1113 - val_loss: 0.1092\n",
      "Epoch 42/50\n",
      "60000/60000 [==============================] - 3s - loss: 0.1105 - val_loss: 0.1085\n",
      "Epoch 43/50\n",
      "60000/60000 [==============================] - 3s - loss: 0.1098 - val_loss: 0.1078\n",
      "Epoch 44/50\n",
      "60000/60000 [==============================] - 3s - loss: 0.1091 - val_loss: 0.1071\n",
      "Epoch 45/50\n",
      "60000/60000 [==============================] - 3s - loss: 0.1084 - val_loss: 0.1065\n",
      "Epoch 46/50\n",
      "60000/60000 [==============================] - 3s - loss: 0.1078 - val_loss: 0.1059\n",
      "Epoch 47/50\n",
      "60000/60000 [==============================] - 3s - loss: 0.1073 - val_loss: 0.1054\n",
      "Epoch 48/50\n",
      "60000/60000 [==============================] - 3s - loss: 0.1067 - val_loss: 0.1048\n",
      "Epoch 49/50\n",
      "60000/60000 [==============================] - 3s - loss: 0.1062 - val_loss: 0.1043\n",
      "Epoch 50/50\n",
      "60000/60000 [==============================] - 3s - loss: 0.1058 - val_loss: 0.1039\n"
     ]
    },
    {
     "data": {
      "text/plain": [
       "<keras.callbacks.History at 0x128437c50>"
      ]
     },
     "execution_count": 10,
     "metadata": {},
     "output_type": "execute_result"
    }
   ],
   "source": [
    "### SOLUCIÓN\n",
    "training_data = x_train\n",
    "training_labels = x_train\n",
    "test_data = x_test\n",
    "test_labels = x_test\n",
    "autoencoder.fit(training_data,training_labels,\n",
    "                epochs=50,\n",
    "                batch_size=256,\n",
    "                shuffle=True,\n",
    "                validation_data=(test_data,test_labels))"
   ]
  },
  {
   "cell_type": "markdown",
   "metadata": {},
   "source": [
    "## Resultados\n",
    "Ahora usaremos los datos de MNIST para ver gráficamente el funcionamiento."
   ]
  },
  {
   "cell_type": "code",
   "execution_count": 11,
   "metadata": {
    "collapsed": true
   },
   "outputs": [],
   "source": [
    "### SOLUCIÓN\n",
    "# Aplicar el encoding a los datos de test\n",
    "encoded_imgs = encoder.predict(x_test)\n",
    "# Hacer la decompresión sobre el resultado del encoding\n",
    "decoded_imgs = decoder.predict(encoded_imgs)"
   ]
  },
  {
   "cell_type": "markdown",
   "metadata": {},
   "source": [
    "El siguiente código se utilizará para graficar el input y output obtenido sobre algunos de los datos de prueba. Comparar las dos imágenes y notar como la reconstrucción es con pérdida."
   ]
  },
  {
   "cell_type": "code",
   "execution_count": 12,
   "metadata": {},
   "outputs": [
    {
     "data": {
      "image/png": "[encoded data removed]",
      "text/plain": [
       "<matplotlib.figure.Figure at 0x1285fe080>"
      ]
     },
     "metadata": {},
     "output_type": "display_data"
    }
   ],
   "source": [
    "import matplotlib.pyplot as plt\n",
    "\n",
    "#Cantidad de dígitos a graficar\n",
    "n = 10  \n",
    "plt.figure(figsize=(20, 4))\n",
    "for i in range(n):\n",
    "    # Imagen original\n",
    "    ax = plt.subplot(2, n, i + 1)\n",
    "    plt.imshow(x_test[i].reshape(28, 28))\n",
    "    plt.gray()\n",
    "    ax.get_xaxis().set_visible(False)\n",
    "    ax.get_yaxis().set_visible(False)\n",
    "\n",
    "    # Reconstrucción\n",
    "    ax = plt.subplot(2, n, i + 1 + n)\n",
    "    plt.imshow(decoded_imgs[i].reshape(28, 28))\n",
    "    plt.gray()\n",
    "    ax.get_xaxis().set_visible(False)\n",
    "    ax.get_yaxis().set_visible(False)\n",
    "plt.show()"
   ]
  },
  {
   "cell_type": "markdown",
   "metadata": {},
   "source": [
    "Observemos ahora el resultado intermedio, los vectores con los datos comprimidos. Notar como cada dígito se representa únicamente con 32 pixeles y a partir de eso se logra reconstruir la imagen que se observa arriba."
   ]
  },
  {
   "cell_type": "code",
   "execution_count": 13,
   "metadata": {},
   "outputs": [
    {
     "data": {
      "image/png": "[encoded data removed]",
      "text/plain": [
       "<matplotlib.figure.Figure at 0x12b6fd4e0>"
      ]
     },
     "metadata": {},
     "output_type": "display_data"
    }
   ],
   "source": [
    "n = 10\n",
    "plt.figure(figsize=(20, 8))\n",
    "for i in range(n):\n",
    "    ax = plt.subplot(1, n, i + 1)\n",
    "    plt.imshow(encoded_imgs[i].reshape(1, 4 * 8).T)\n",
    "    ax.get_xaxis().set_visible(False)\n",
    "    ax.get_yaxis().set_visible(False)\n",
    "plt.show()"
   ]
  },
  {
   "cell_type": "markdown",
   "metadata": {},
   "source": [
    "**Indicar dos formas que se te ocurren para mejorar la calidad de la reconstrucción**"
   ]
  },
  {
   "cell_type": "markdown",
   "metadata": {},
   "source": [
    "**Respuesta:** Aumentar el encoding_dim o usar una red más compleja, con mayor cantidad de capas."
   ]
  },
  {
   "cell_type": "markdown",
   "metadata": {},
   "source": [
    "## 2 - Deep Autoencoder\n",
    "Trataremos de mejorar la reconstrucción de las imágenes utilizando una red más compleja."
   ]
  },
  {
   "cell_type": "markdown",
   "metadata": {},
   "source": [
    "### Encoder\n",
    "Crear una red neuronal que reciba las imágenes de MNIST y esté compuesta por tres capas densas con función de activación Relu. Mantener el mismo factor de compresión que la red anterior."
   ]
  },
  {
   "cell_type": "markdown",
   "metadata": {},
   "source": [
    "**¿Cómo mantenemos el mismo factor de compresión?**"
   ]
  },
  {
   "cell_type": "markdown",
   "metadata": {},
   "source": [
    "**Respuesta:** Que la capa densa con menor cantidad de nodos tenga el mismo valor de encoding_dim"
   ]
  },
  {
   "cell_type": "code",
   "execution_count": 14,
   "metadata": {
    "collapsed": true
   },
   "outputs": [],
   "source": [
    "### SOLUCIÓN\n",
    "#Primera capa de input\n",
    "deep_input_img = Input(shape=(784,))\n",
    "#Capas densas (podemos reutilizar la variable y que cada capa tenga como input la anterior)\n",
    "deep_encoded = Dense(128, activation='relu')(deep_input_img)\n",
    "deep_encoded = Dense(64, activation='relu')(deep_encoded)\n",
    "deep_encoded = Dense(32, activation='relu')(deep_encoded)\n",
    "#Modelo completo\n",
    "deep_encoder = Model(deep_input_img, deep_encoded)"
   ]
  },
  {
   "cell_type": "markdown",
   "metadata": {},
   "source": [
    "### Decoder\n",
    "Hagamos ahora un decoder simétrico al encoder pero que la última capa tenga función de activación Sigmoid."
   ]
  },
  {
   "cell_type": "code",
   "execution_count": 15,
   "metadata": {
    "collapsed": true
   },
   "outputs": [],
   "source": [
    "### SOLUCIÓN\n",
    "deep_decoded = Dense(64, activation='relu')(deep_encoded)\n",
    "deep_decoded = Dense(128, activation='relu')(deep_decoded)\n",
    "deep_decoded = Dense(784, activation='sigmoid')(deep_decoded)\n",
    "\n",
    "# Modelo de autoencoder completo\n",
    "deep_autoencoder = Model(deep_input_img, deep_decoded)"
   ]
  },
  {
   "cell_type": "markdown",
   "metadata": {},
   "source": [
    "### Entrenamiento y resultados\n",
    "Compilemos y entrenemos al igual que antes pero con 100 epochs ahora."
   ]
  },
  {
   "cell_type": "code",
   "execution_count": 16,
   "metadata": {},
   "outputs": [
    {
     "name": "stdout",
     "output_type": "stream",
     "text": [
      "Train on 60000 samples, validate on 10000 samples\n",
      "Epoch 1/100\n",
      "60000/60000 [==============================] - 5s - loss: 0.3357 - val_loss: 0.2631\n",
      "Epoch 2/100\n",
      "60000/60000 [==============================] - 5s - loss: 0.2559 - val_loss: 0.2467\n",
      "Epoch 3/100\n",
      "60000/60000 [==============================] - 6s - loss: 0.2373 - val_loss: 0.2220\n",
      "Epoch 4/100\n",
      "60000/60000 [==============================] - 6s - loss: 0.2118 - val_loss: 0.2030\n",
      "Epoch 5/100\n",
      "60000/60000 [==============================] - 6s - loss: 0.1971 - val_loss: 0.1899\n",
      "Epoch 6/100\n",
      "60000/60000 [==============================] - 7s - loss: 0.1873 - val_loss: 0.1824\n",
      "Epoch 7/100\n",
      "60000/60000 [==============================] - 6s - loss: 0.1802 - val_loss: 0.1772\n",
      "Epoch 8/100\n",
      "60000/60000 [==============================] - 7s - loss: 0.1741 - val_loss: 0.1704\n",
      "Epoch 9/100\n",
      "60000/60000 [==============================] - 6s - loss: 0.1694 - val_loss: 0.1663\n",
      "Epoch 10/100\n",
      "60000/60000 [==============================] - 7s - loss: 0.1651 - val_loss: 0.1615\n",
      "Epoch 11/100\n",
      "60000/60000 [==============================] - 5s - loss: 0.1613 - val_loss: 0.1571\n",
      "Epoch 12/100\n",
      "60000/60000 [==============================] - 5s - loss: 0.1572 - val_loss: 0.1544\n",
      "Epoch 13/100\n",
      "60000/60000 [==============================] - 5s - loss: 0.1538 - val_loss: 0.1513\n",
      "Epoch 14/100\n",
      "60000/60000 [==============================] - 6s - loss: 0.1514 - val_loss: 0.1488\n",
      "Epoch 15/100\n",
      "60000/60000 [==============================] - 6s - loss: 0.1492 - val_loss: 0.1467\n",
      "Epoch 16/100\n",
      "60000/60000 [==============================] - 5s - loss: 0.1471 - val_loss: 0.1444\n",
      "Epoch 17/100\n",
      "60000/60000 [==============================] - 5s - loss: 0.1452 - val_loss: 0.1419\n",
      "Epoch 18/100\n",
      "60000/60000 [==============================] - 5s - loss: 0.1432 - val_loss: 0.1415\n",
      "Epoch 19/100\n",
      "60000/60000 [==============================] - 5s - loss: 0.1410 - val_loss: 0.1383\n",
      "Epoch 20/100\n",
      "60000/60000 [==============================] - 5s - loss: 0.1391 - val_loss: 0.1366\n",
      "Epoch 21/100\n",
      "60000/60000 [==============================] - 5s - loss: 0.1372 - val_loss: 0.1352\n",
      "Epoch 22/100\n",
      "60000/60000 [==============================] - 5s - loss: 0.1352 - val_loss: 0.1345\n",
      "Epoch 23/100\n",
      "60000/60000 [==============================] - 5s - loss: 0.1337 - val_loss: 0.1311\n",
      "Epoch 24/100\n",
      "60000/60000 [==============================] - 5s - loss: 0.1317 - val_loss: 0.1328\n",
      "Epoch 25/100\n",
      "60000/60000 [==============================] - 5s - loss: 0.1302 - val_loss: 0.1270\n",
      "Epoch 26/100\n",
      "60000/60000 [==============================] - 5s - loss: 0.1287 - val_loss: 0.1264\n",
      "Epoch 27/100\n",
      "60000/60000 [==============================] - 5s - loss: 0.1274 - val_loss: 0.1255\n",
      "Epoch 28/100\n",
      "60000/60000 [==============================] - 5s - loss: 0.1261 - val_loss: 0.1248\n",
      "Epoch 29/100\n",
      "60000/60000 [==============================] - 5s - loss: 0.1252 - val_loss: 0.1239\n",
      "Epoch 30/100\n",
      "60000/60000 [==============================] - 5s - loss: 0.1242 - val_loss: 0.1211\n",
      "Epoch 31/100\n",
      "60000/60000 [==============================] - 5s - loss: 0.1231 - val_loss: 0.1216\n",
      "Epoch 32/100\n",
      "60000/60000 [==============================] - 5s - loss: 0.1223 - val_loss: 0.1198\n",
      "Epoch 33/100\n",
      "60000/60000 [==============================] - 5s - loss: 0.1213 - val_loss: 0.1185\n",
      "Epoch 34/100\n",
      "60000/60000 [==============================] - 5s - loss: 0.1204 - val_loss: 0.1185\n",
      "Epoch 35/100\n",
      "60000/60000 [==============================] - 5s - loss: 0.1197 - val_loss: 0.1183\n",
      "Epoch 36/100\n",
      "60000/60000 [==============================] - 5s - loss: 0.1190 - val_loss: 0.1174\n",
      "Epoch 37/100\n",
      "60000/60000 [==============================] - 5s - loss: 0.1183 - val_loss: 0.1172\n",
      "Epoch 38/100\n",
      "60000/60000 [==============================] - 5s - loss: 0.1176 - val_loss: 0.1160\n",
      "Epoch 39/100\n",
      "60000/60000 [==============================] - 5s - loss: 0.1171 - val_loss: 0.1157\n",
      "Epoch 40/100\n",
      "60000/60000 [==============================] - 5s - loss: 0.1166 - val_loss: 0.1153\n",
      "Epoch 41/100\n",
      "60000/60000 [==============================] - 5s - loss: 0.1160 - val_loss: 0.1141\n",
      "Epoch 42/100\n",
      "60000/60000 [==============================] - 5s - loss: 0.1155 - val_loss: 0.1150\n",
      "Epoch 43/100\n",
      "60000/60000 [==============================] - 5s - loss: 0.1149 - val_loss: 0.1131\n",
      "Epoch 44/100\n",
      "60000/60000 [==============================] - 5s - loss: 0.1145 - val_loss: 0.1136\n",
      "Epoch 45/100\n",
      "60000/60000 [==============================] - 5s - loss: 0.1141 - val_loss: 0.1135\n",
      "Epoch 46/100\n",
      "60000/60000 [==============================] - 5s - loss: 0.1135 - val_loss: 0.1125\n",
      "Epoch 47/100\n",
      "60000/60000 [==============================] - 5s - loss: 0.1132 - val_loss: 0.1119\n",
      "Epoch 48/100\n",
      "60000/60000 [==============================] - 5s - loss: 0.1128 - val_loss: 0.1109\n",
      "Epoch 49/100\n",
      "60000/60000 [==============================] - 5s - loss: 0.1123 - val_loss: 0.1100\n",
      "Epoch 50/100\n",
      "60000/60000 [==============================] - 5s - loss: 0.1119 - val_loss: 0.1108\n",
      "Epoch 51/100\n",
      "60000/60000 [==============================] - 5s - loss: 0.1115 - val_loss: 0.1101\n",
      "Epoch 52/100\n",
      "60000/60000 [==============================] - 5s - loss: 0.1109 - val_loss: 0.1097\n",
      "Epoch 53/100\n",
      "60000/60000 [==============================] - 5s - loss: 0.1106 - val_loss: 0.1090\n",
      "Epoch 54/100\n",
      "60000/60000 [==============================] - 5s - loss: 0.1102 - val_loss: 0.1091\n",
      "Epoch 55/100\n",
      "60000/60000 [==============================] - 5s - loss: 0.1098 - val_loss: 0.1097\n",
      "Epoch 56/100\n",
      "60000/60000 [==============================] - 5s - loss: 0.1092 - val_loss: 0.1079\n",
      "Epoch 57/100\n",
      "60000/60000 [==============================] - 5s - loss: 0.1089 - val_loss: 0.1074\n",
      "Epoch 58/100\n",
      "60000/60000 [==============================] - 5s - loss: 0.1084 - val_loss: 0.1072\n",
      "Epoch 59/100\n",
      "60000/60000 [==============================] - 5s - loss: 0.1080 - val_loss: 0.1067\n",
      "Epoch 60/100\n",
      "60000/60000 [==============================] - 5s - loss: 0.1077 - val_loss: 0.1060\n",
      "Epoch 61/100\n",
      "60000/60000 [==============================] - 5s - loss: 0.1072 - val_loss: 0.1063\n",
      "Epoch 62/100\n",
      "60000/60000 [==============================] - 5s - loss: 0.1069 - val_loss: 0.1052\n",
      "Epoch 63/100\n",
      "60000/60000 [==============================] - 5s - loss: 0.1066 - val_loss: 0.1065\n",
      "Epoch 64/100\n",
      "60000/60000 [==============================] - 5s - loss: 0.1063 - val_loss: 0.1046\n",
      "Epoch 65/100\n",
      "60000/60000 [==============================] - 5s - loss: 0.1060 - val_loss: 0.1042\n",
      "Epoch 66/100\n",
      "60000/60000 [==============================] - 5s - loss: 0.1057 - val_loss: 0.1047\n",
      "Epoch 67/100\n",
      "60000/60000 [==============================] - 5s - loss: 0.1054 - val_loss: 0.1043\n",
      "Epoch 68/100\n",
      "60000/60000 [==============================] - 5s - loss: 0.1051 - val_loss: 0.1046\n",
      "Epoch 69/100\n",
      "60000/60000 [==============================] - 5s - loss: 0.1048 - val_loss: 0.1040\n",
      "Epoch 70/100\n",
      "60000/60000 [==============================] - 5s - loss: 0.1046 - val_loss: 0.1031\n",
      "Epoch 71/100\n",
      "60000/60000 [==============================] - 5s - loss: 0.1042 - val_loss: 0.1036\n",
      "Epoch 72/100\n",
      "60000/60000 [==============================] - 6s - loss: 0.1040 - val_loss: 0.1029\n",
      "Epoch 73/100\n",
      "60000/60000 [==============================] - 6s - loss: 0.1039 - val_loss: 0.1030\n",
      "Epoch 74/100\n",
      "60000/60000 [==============================] - 5s - loss: 0.1035 - val_loss: 0.1035\n",
      "Epoch 75/100\n",
      "60000/60000 [==============================] - 5s - loss: 0.1033 - val_loss: 0.1019\n",
      "Epoch 76/100\n",
      "60000/60000 [==============================] - 7s - loss: 0.1031 - val_loss: 0.1016\n",
      "Epoch 77/100\n",
      "60000/60000 [==============================] - 7s - loss: 0.1027 - val_loss: 0.1017\n",
      "Epoch 78/100\n",
      "60000/60000 [==============================] - 9s - loss: 0.1028 - val_loss: 0.1014\n",
      "Epoch 79/100\n",
      "60000/60000 [==============================] - 8s - loss: 0.1023 - val_loss: 0.1013\n",
      "Epoch 80/100\n",
      "60000/60000 [==============================] - 8s - loss: 0.1021 - val_loss: 0.1011\n",
      "Epoch 81/100\n",
      "60000/60000 [==============================] - 5s - loss: 0.1018 - val_loss: 0.0998\n",
      "Epoch 82/100\n",
      "60000/60000 [==============================] - 5s - loss: 0.1016 - val_loss: 0.1006\n",
      "Epoch 83/100\n",
      "60000/60000 [==============================] - 6s - loss: 0.1014 - val_loss: 0.1003\n",
      "Epoch 84/100\n",
      "60000/60000 [==============================] - 7s - loss: 0.1012 - val_loss: 0.1005\n",
      "Epoch 85/100\n"
     ]
    },
    {
     "name": "stdout",
     "output_type": "stream",
     "text": [
      "60000/60000 [==============================] - 7s - loss: 0.1010 - val_loss: 0.1002\n",
      "Epoch 86/100\n",
      "60000/60000 [==============================] - 6s - loss: 0.1009 - val_loss: 0.0989\n",
      "Epoch 87/100\n",
      "60000/60000 [==============================] - 5s - loss: 0.1007 - val_loss: 0.1013\n",
      "Epoch 88/100\n",
      "60000/60000 [==============================] - 5s - loss: 0.1006 - val_loss: 0.0994\n",
      "Epoch 89/100\n",
      "60000/60000 [==============================] - 5s - loss: 0.1003 - val_loss: 0.0986\n",
      "Epoch 90/100\n",
      "60000/60000 [==============================] - 7s - loss: 0.1002 - val_loss: 0.0986\n",
      "Epoch 91/100\n",
      "60000/60000 [==============================] - 5s - loss: 0.1000 - val_loss: 0.0987\n",
      "Epoch 92/100\n",
      "60000/60000 [==============================] - 6s - loss: 0.0998 - val_loss: 0.0984\n",
      "Epoch 93/100\n",
      "60000/60000 [==============================] - 6s - loss: 0.0997 - val_loss: 0.0985\n",
      "Epoch 94/100\n",
      "60000/60000 [==============================] - 5s - loss: 0.0995 - val_loss: 0.0982\n",
      "Epoch 95/100\n",
      "60000/60000 [==============================] - 6s - loss: 0.0994 - val_loss: 0.0983\n",
      "Epoch 96/100\n",
      "60000/60000 [==============================] - 5s - loss: 0.0994 - val_loss: 0.0992\n",
      "Epoch 97/100\n",
      "60000/60000 [==============================] - 6s - loss: 0.0991 - val_loss: 0.0987\n",
      "Epoch 98/100\n",
      "60000/60000 [==============================] - 6s - loss: 0.0990 - val_loss: 0.0986\n",
      "Epoch 99/100\n",
      "60000/60000 [==============================] - 7s - loss: 0.0989 - val_loss: 0.0974\n",
      "Epoch 100/100\n",
      "60000/60000 [==============================] - 7s - loss: 0.0987 - val_loss: 0.0976\n"
     ]
    },
    {
     "data": {
      "text/plain": [
       "<keras.callbacks.History at 0x12bbecb00>"
      ]
     },
     "execution_count": 16,
     "metadata": {},
     "output_type": "execute_result"
    }
   ],
   "source": [
    "### SOLUCIÓN\n",
    "deep_autoencoder.compile(optimizer='adadelta', loss='binary_crossentropy')\n",
    "\n",
    "deep_autoencoder.fit(x_train, x_train,\n",
    "                epochs=100,\n",
    "                batch_size=256,\n",
    "                shuffle=True,\n",
    "                validation_data=(x_test, x_test))"
   ]
  },
  {
   "cell_type": "markdown",
   "metadata": {},
   "source": [
    "A continuación apliquemos el autoencoder a los datos de test."
   ]
  },
  {
   "cell_type": "code",
   "execution_count": 17,
   "metadata": {
    "collapsed": true
   },
   "outputs": [],
   "source": [
    "### SOLUCIÓN\n",
    "deep_decoded_imgs = deep_autoencoder.predict(x_test)"
   ]
  },
  {
   "cell_type": "markdown",
   "metadata": {},
   "source": [
    "Analicemos los resultados al igual que antes"
   ]
  },
  {
   "cell_type": "code",
   "execution_count": 18,
   "metadata": {},
   "outputs": [
    {
     "data": {
      "image/png": "[encoded data removed]",
      "text/plain": [
       "<matplotlib.figure.Figure at 0x12a66b6a0>"
      ]
     },
     "metadata": {},
     "output_type": "display_data"
    }
   ],
   "source": [
    "n = 10\n",
    "plt.figure(figsize=(20, 4))\n",
    "for i in range(n):\n",
    "    # Original\n",
    "    ax = plt.subplot(2, n, i + 1)\n",
    "    plt.imshow(x_test[i].reshape(28, 28))\n",
    "    plt.gray()\n",
    "    ax.get_xaxis().set_visible(False)\n",
    "    ax.get_yaxis().set_visible(False)\n",
    "    \n",
    "    # Reconstrucción\n",
    "    ax = plt.subplot(2, n, i + n + 1)\n",
    "    plt.imshow(deep_decoded_imgs[i].reshape(28, 28))\n",
    "    plt.gray()\n",
    "    ax.get_xaxis().set_visible(False)\n",
    "    ax.get_yaxis().set_visible(False)\n",
    "plt.show()"
   ]
  },
  {
   "cell_type": "markdown",
   "metadata": {},
   "source": [
    "## 3 - Convolutional Autoencoder\n",
    "Ahora trataremos de mejorar la reconstrucción con un tipo de red distinta: una red convolucional. Ya que estamos trabajando con imágenes, probaremos este tipo de redes que mantienen información espacial relevante para las imágenes.\n",
    "\n",
    "Para el encoding utilizaremos capas:\n",
    "- Conv2D\n",
    "- MaxPooling2D"
   ]
  },
  {
   "cell_type": "markdown",
   "metadata": {},
   "source": [
    "Crear una red neuronal para el encoder  que reciba las imágenes y a continuación tenga:\n",
    "1. Capa de Conv2D con 16 filtros, una ventana de convolución de 3x3, activación relu y padding 'same'\n",
    "2. Capa de MaxPooling con pool size de 2x2 y padding 'same'\n",
    "3. Capa de Conv2D con 8 filtros, una ventana de convolución de 3x3, activación relu y padding 'same'\n",
    "4. Capa de MaxPooling con pool size de 2x2 y padding 'same'\n",
    "5. Capa de Conv2D con 8 filtros, una ventana de convolución de 3x3, activación relu y padding 'same'\n",
    "6. Capa de MaxPooling con pool size de 2x2 y padding 'same'\n",
    "\n",
    "Pensar: \n",
    "- ¿Cuál es el input shape ahora y por qué?\n",
    "- ¿Cómo logramos la simetría dado que vamos a hacer pooling?\n",
    "\n",
    "Investigar las capas:\n",
    "- UpSampling2D"
   ]
  },
  {
   "cell_type": "code",
   "execution_count": 19,
   "metadata": {
    "collapsed": true
   },
   "outputs": [],
   "source": [
    "#Imports necesarios\n",
    "from keras.layers import Input, Dense, Conv2D, MaxPooling2D, UpSampling2D"
   ]
  },
  {
   "cell_type": "code",
   "execution_count": 20,
   "metadata": {
    "collapsed": true
   },
   "outputs": [],
   "source": [
    "### SOLUCIÓN\n",
    "conv_input_img = Input(shape=(28, 28, 1))\n",
    "x = Conv2D(16, (3, 3), activation='relu', padding='same')(conv_input_img)\n",
    "x = MaxPooling2D((2, 2), padding='same')(x)\n",
    "x = Conv2D(8, (3, 3), activation='relu', padding='same')(x)\n",
    "x = MaxPooling2D((2, 2), padding='same')(x)\n",
    "x = Conv2D(8, (3, 3), activation='relu', padding='same')(x)\n",
    "conv_encoded = MaxPooling2D((2, 2), padding='same')(x)"
   ]
  },
  {
   "cell_type": "markdown",
   "metadata": {},
   "source": [
    "Completar la red con un decoder que tenga las siguientes capas:\n",
    "1. Capa de Conv2D con 8 filtros, una ventana de convolución de 3x3, activación relu y padding 'same'\n",
    "2. Capa de UpSampling2D con size 2x2\n",
    "3. Capa de Conv2D con 8 filtros, una ventana de convolución de 3x3, activación relu y padding 'same'\n",
    "4. Capa de UpSampling2D con size 2x2\n",
    "5. Capa de Conv2D con 16 filtros, una ventana de convolución de 3x3, activación relu y padding 'same'\n",
    "6. Capa de UpSampling2D con size 2x2\n",
    "7. Capa de Conv2D con 1 filtro, una ventana de convolución de 3x3, activación sigmoid y padding 'same'"
   ]
  },
  {
   "cell_type": "code",
   "execution_count": 21,
   "metadata": {
    "collapsed": true
   },
   "outputs": [],
   "source": [
    "### SOLUCIÓN\n",
    "x = Conv2D(8, (3, 3), activation='relu', padding='same')(conv_encoded)\n",
    "x = UpSampling2D((2, 2))(x)\n",
    "x = Conv2D(8, (3, 3), activation='relu', padding='same')(x)\n",
    "x = UpSampling2D((2, 2))(x)\n",
    "x = Conv2D(16, (3, 3), activation='relu')(x)\n",
    "x = UpSampling2D((2, 2))(x)\n",
    "conv_decoded = Conv2D(1, (3, 3), activation='sigmoid', padding='same')(x)\n",
    "\n",
    "#Modelo completo\n",
    "conv_autoencoder = Model(conv_input_img, conv_decoded)"
   ]
  },
  {
   "cell_type": "markdown",
   "metadata": {},
   "source": [
    "Compilemos el autoencoder con mismo optimizar y función de pérdida que hasta el momento."
   ]
  },
  {
   "cell_type": "code",
   "execution_count": 22,
   "metadata": {
    "collapsed": true
   },
   "outputs": [],
   "source": [
    "### SOLUCIÓN\n",
    "conv_autoencoder.compile(optimizer='adadelta', loss='binary_crossentropy')"
   ]
  },
  {
   "cell_type": "code",
   "execution_count": 23,
   "metadata": {},
   "outputs": [
    {
     "name": "stdout",
     "output_type": "stream",
     "text": [
      "_________________________________________________________________\n",
      "Layer (type)                 Output Shape              Param #   \n",
      "=================================================================\n",
      "input_4 (InputLayer)         (None, 28, 28, 1)         0         \n",
      "_________________________________________________________________\n",
      "conv2d_1 (Conv2D)            (None, 28, 28, 16)        160       \n",
      "_________________________________________________________________\n",
      "max_pooling2d_1 (MaxPooling2 (None, 14, 14, 16)        0         \n",
      "_________________________________________________________________\n",
      "conv2d_2 (Conv2D)            (None, 14, 14, 8)         1160      \n",
      "_________________________________________________________________\n",
      "max_pooling2d_2 (MaxPooling2 (None, 7, 7, 8)           0         \n",
      "_________________________________________________________________\n",
      "conv2d_3 (Conv2D)            (None, 7, 7, 8)           584       \n",
      "_________________________________________________________________\n",
      "max_pooling2d_3 (MaxPooling2 (None, 4, 4, 8)           0         \n",
      "_________________________________________________________________\n",
      "conv2d_4 (Conv2D)            (None, 4, 4, 8)           584       \n",
      "_________________________________________________________________\n",
      "up_sampling2d_1 (UpSampling2 (None, 8, 8, 8)           0         \n",
      "_________________________________________________________________\n",
      "conv2d_5 (Conv2D)            (None, 8, 8, 8)           584       \n",
      "_________________________________________________________________\n",
      "up_sampling2d_2 (UpSampling2 (None, 16, 16, 8)         0         \n",
      "_________________________________________________________________\n",
      "conv2d_6 (Conv2D)            (None, 14, 14, 16)        1168      \n",
      "_________________________________________________________________\n",
      "up_sampling2d_3 (UpSampling2 (None, 28, 28, 16)        0         \n",
      "_________________________________________________________________\n",
      "conv2d_7 (Conv2D)            (None, 28, 28, 1)         145       \n",
      "=================================================================\n",
      "Total params: 4,385\n",
      "Trainable params: 4,385\n",
      "Non-trainable params: 0\n",
      "_________________________________________________________________\n"
     ]
    }
   ],
   "source": [
    "# Observemos la arquitectura de nuestra red\n",
    "conv_autoencoder.summary()"
   ]
  },
  {
   "cell_type": "markdown",
   "metadata": {},
   "source": [
    "Ahora debemos volver a cargar los datos de MNIST. \n",
    "\n",
    "**¿Por qué?**"
   ]
  },
  {
   "cell_type": "markdown",
   "metadata": {},
   "source": [
    "**Respuesta: ** Porque ahora trabajo con imágenes y tienen una dimensión distinta."
   ]
  },
  {
   "cell_type": "code",
   "execution_count": 24,
   "metadata": {
    "collapsed": true
   },
   "outputs": [],
   "source": [
    "#Cargo datos de MNIST\n",
    "(x_train_2, _), (x_test_2, _) = mnist.load_data()\n",
    "#Normalizo\n",
    "x_train_2 = x_train_2.astype('float32') / 255.\n",
    "x_test_2 = x_test_2.astype('float32') / 255.\n",
    "#Doy la forma necesaria\n",
    "x_train_2 = np.reshape(x_train_2, (len(x_train_2), 28, 28, 1))\n",
    "x_test_2 = np.reshape(x_test_2, (len(x_test_2), 28, 28, 1))"
   ]
  },
  {
   "cell_type": "code",
   "execution_count": 25,
   "metadata": {},
   "outputs": [
    {
     "name": "stdout",
     "output_type": "stream",
     "text": [
      "(60000, 28, 28, 1)\n",
      "(10000, 28, 28, 1)\n"
     ]
    }
   ],
   "source": [
    "# Verifico la nueva forma de mis datos\n",
    "print(x_train_2.shape)\n",
    "print(x_test_2.shape)"
   ]
  },
  {
   "cell_type": "code",
   "execution_count": 26,
   "metadata": {},
   "outputs": [
    {
     "name": "stdout",
     "output_type": "stream",
     "text": [
      "Train on 60000 samples, validate on 10000 samples\n",
      "Epoch 1/20\n",
      "60000/60000 [==============================] - 91s - loss: 0.2348 - val_loss: 0.1761\n",
      "Epoch 2/20\n",
      "60000/60000 [==============================] - 82s - loss: 0.1646 - val_loss: 0.1538\n",
      "Epoch 3/20\n",
      "60000/60000 [==============================] - 80s - loss: 0.1463 - val_loss: 0.1389\n",
      "Epoch 4/20\n",
      "60000/60000 [==============================] - 83s - loss: 0.1355 - val_loss: 0.1313\n",
      "Epoch 5/20\n",
      "60000/60000 [==============================] - 85s - loss: 0.1291 - val_loss: 0.1263\n",
      "Epoch 6/20\n",
      "60000/60000 [==============================] - 84s - loss: 0.1249 - val_loss: 0.1210\n",
      "Epoch 7/20\n",
      "60000/60000 [==============================] - 89s - loss: 0.1217 - val_loss: 0.1183\n",
      "Epoch 8/20\n",
      "60000/60000 [==============================] - 86s - loss: 0.1191 - val_loss: 0.1183\n",
      "Epoch 9/20\n",
      "60000/60000 [==============================] - 88s - loss: 0.1173 - val_loss: 0.1183\n",
      "Epoch 10/20\n",
      "60000/60000 [==============================] - 89s - loss: 0.1162 - val_loss: 0.1141\n",
      "Epoch 11/20\n",
      "60000/60000 [==============================] - 83s - loss: 0.1149 - val_loss: 0.1118\n",
      "Epoch 12/20\n",
      "60000/60000 [==============================] - 83s - loss: 0.1139 - val_loss: 0.1156\n",
      "Epoch 13/20\n",
      "60000/60000 [==============================] - 95s - loss: 0.1132 - val_loss: 0.1107\n",
      "Epoch 14/20\n",
      "60000/60000 [==============================] - 82s - loss: 0.1121 - val_loss: 0.1096\n",
      "Epoch 15/20\n",
      "60000/60000 [==============================] - 82s - loss: 0.1112 - val_loss: 0.1113\n",
      "Epoch 16/20\n",
      "60000/60000 [==============================] - 89s - loss: 0.1101 - val_loss: 0.1089\n",
      "Epoch 17/20\n",
      "60000/60000 [==============================] - 86s - loss: 0.1097 - val_loss: 0.1092\n",
      "Epoch 18/20\n",
      "60000/60000 [==============================] - 83s - loss: 0.1092 - val_loss: 0.1098\n",
      "Epoch 19/20\n",
      "60000/60000 [==============================] - 83s - loss: 0.1088 - val_loss: 0.1069\n",
      "Epoch 20/20\n",
      "60000/60000 [==============================] - 88s - loss: 0.1083 - val_loss: 0.1068\n"
     ]
    },
    {
     "data": {
      "text/plain": [
       "<keras.callbacks.History at 0x12bdb7eb8>"
      ]
     },
     "execution_count": 26,
     "metadata": {},
     "output_type": "execute_result"
    }
   ],
   "source": [
    "# Entrenamiento (puede demorar mucho)\n",
    "conv_autoencoder.fit(x_train_2, x_train_2,\n",
    "                epochs=20,\n",
    "                batch_size=128,\n",
    "                shuffle=True,\n",
    "                validation_data=(x_test_2, x_test_2))"
   ]
  },
  {
   "cell_type": "code",
   "execution_count": 27,
   "metadata": {
    "collapsed": true
   },
   "outputs": [],
   "source": [
    "# Código para guardar los modelos utilizados, descomentar si se precisa\n",
    "autoencoder.save('autoencoder_saved.h5')\n",
    "deep_autoencoder.save('deep_autoencoder_saved.h5')\n",
    "conv_autoencoder.save('conv_autoencoder_saved.h5')\n",
    "\n",
    "# Levanto modelos (arquitectura y pesos) de un archivo HDF5 guardado para evitar entrenamiento\n",
    "from keras.models import load_model\n",
    "autoencoder = load_model('autoencoder_saved.h5')\n",
    "deep_autoencoder = load_model('deep_autoencoder_saved.h5')\n",
    "conv_autoencoder = load_model('conv_autoencoder_saved.h5')"
   ]
  },
  {
   "cell_type": "markdown",
   "metadata": {},
   "source": [
    "Ahora usemos el modelo conv_autoencoder para predecir sobre los datos de test."
   ]
  },
  {
   "cell_type": "code",
   "execution_count": 28,
   "metadata": {
    "collapsed": true
   },
   "outputs": [],
   "source": [
    "### SOLUCIÓN\n",
    "conv_decoded_imgs = conv_autoencoder.predict(x_test_2)"
   ]
  },
  {
   "cell_type": "code",
   "execution_count": 29,
   "metadata": {},
   "outputs": [
    {
     "data": {
      "image/png": "[encoded data removed]",
      "text/plain": [
       "<matplotlib.figure.Figure at 0x13e42add8>"
      ]
     },
     "metadata": {},
     "output_type": "display_data"
    }
   ],
   "source": [
    "# Grafiquemos el resultado\n",
    "n = 10\n",
    "plt.figure(figsize=(20, 4))\n",
    "for i in range(n):\n",
    "    # Original\n",
    "    ax = plt.subplot(2, n, i + 1)\n",
    "    plt.imshow(x_test_2[i].reshape(28, 28))\n",
    "    plt.gray()\n",
    "    ax.get_xaxis().set_visible(False)\n",
    "    ax.get_yaxis().set_visible(False)\n",
    "    \n",
    "    # Reconstrucción\n",
    "    ax = plt.subplot(2, n, i + n + 1)\n",
    "    plt.imshow(conv_decoded_imgs[i].reshape(28, 28))\n",
    "    plt.gray()\n",
    "    ax.get_xaxis().set_visible(False)\n",
    "    ax.get_yaxis().set_visible(False)\n",
    "plt.show()"
   ]
  },
  {
   "cell_type": "markdown",
   "metadata": {},
   "source": [
    "## 4 - Genero imágenes ruidosas"
   ]
  },
  {
   "cell_type": "markdown",
   "metadata": {},
   "source": [
    "Ahora genero imágenes ruidosas. Mi objetivo es reconstruir las imágenes reales a partir de unas ruidosas. Como no tengo datos de entrenamiento los genero degradando la calidad de mis datos."
   ]
  },
  {
   "cell_type": "code",
   "execution_count": 30,
   "metadata": {},
   "outputs": [
    {
     "data": {
      "image/png": "[encoded data removed]",
      "text/plain": [
       "<matplotlib.figure.Figure at 0x14253b2e8>"
      ]
     },
     "metadata": {},
     "output_type": "display_data"
    }
   ],
   "source": [
    "noise_factor = 0.5\n",
    "x_train_noisy = x_train_2 + noise_factor * np.random.normal(loc=0.0, scale=1.0, size=x_train_2.shape) \n",
    "x_test_noisy = x_test_2 + noise_factor * np.random.normal(loc=0.0, scale=1.0, size=x_test_2.shape) \n",
    "\n",
    "x_train_noisy = np.clip(x_train_noisy, 0., 1.)\n",
    "x_test_noisy = np.clip(x_test_noisy, 0., 1.)\n",
    "\n",
    "n = 10\n",
    "plt.figure(figsize=(20, 2))\n",
    "for i in range(n):\n",
    "    ax = plt.subplot(1, n, i + 1)\n",
    "    plt.imshow(x_test_noisy[i].reshape(28, 28))\n",
    "    plt.gray()\n",
    "    ax.get_xaxis().set_visible(False)\n",
    "    ax.get_yaxis().set_visible(False)\n",
    "plt.show()"
   ]
  },
  {
   "cell_type": "markdown",
   "metadata": {},
   "source": [
    "Vuelvo a entrenar modelo, ahora con las imágenes ruidosas. Ahora usamos una red con más filtros por capa para mejorar la calidad de la reconstrucción.\n",
    "\n",
    "Completar la red que tenga las siguientes capas:\n",
    "1. Capa de input con la forma necesaria\n",
    "2. Capa de Conv2D con 32 filtros, una ventana de convolución de 3x3, activación relu y padding 'same'\n",
    "3. Capa de MaxPooling con pool size de 2x2 y padding 'same'\n",
    "4. Capa de Conv2D con 32 filtros, una ventana de convolución de 3x3, activación relu y padding 'same'\n",
    "5. Capa de MaxPooling con pool size de 2x2 y padding 'same'\n",
    "\n",
    "Hasta aquí fue el encoder. Ahora el decoder:\n",
    "6. Capa de Conv2D con 32 filtros, una ventana de convolución de 3x3, activación relu y padding 'same'\n",
    "7. Capa de UpSampling2D con size 2x2\n",
    "8. Capa de Conv2D con 32 filtros, una ventana de convolución de 3x3, activación sigmoid y padding 'same'\n",
    "9. Capa de UpSampling2D con size 2x2\n",
    "10. Capa de Conv2D con 1 filtro, una ventana de convolución de 3x3, activación sigmoid y padding 'same'"
   ]
  },
  {
   "cell_type": "code",
   "execution_count": 31,
   "metadata": {
    "collapsed": true
   },
   "outputs": [],
   "source": [
    "### Solución\n",
    "#Capa de input\n",
    "noisy_input_img = Input(shape=(28, 28, 1))\n",
    "#Encoder\n",
    "nx = Conv2D(32, (3, 3), activation='relu', padding='same')(noisy_input_img)\n",
    "nx = MaxPooling2D((2, 2), padding='same')(nx)\n",
    "nx = Conv2D(32, (3, 3), activation='relu', padding='same')(nx)\n",
    "noisy_encoded = MaxPooling2D((2, 2), padding='same')(nx)\n",
    "#Decoder\n",
    "nx = Conv2D(32, (3, 3), activation='relu', padding='same')(noisy_encoded)\n",
    "nx = UpSampling2D((2, 2))(nx)\n",
    "nx = Conv2D(32, (3, 3), activation='relu', padding='same')(nx)\n",
    "nx = UpSampling2D((2, 2))(nx)\n",
    "noisy_decoded = Conv2D(1, (3, 3), activation='sigmoid', padding='same')(nx)"
   ]
  },
  {
   "cell_type": "code",
   "execution_count": 32,
   "metadata": {
    "collapsed": true
   },
   "outputs": [],
   "source": [
    "#Modelo completo\n",
    "noisy_autoencoder = Model(noisy_input_img, noisy_decoded)\n",
    "#Compilación\n",
    "noisy_autoencoder.compile(optimizer='adadelta', loss='binary_crossentropy')"
   ]
  },
  {
   "cell_type": "markdown",
   "metadata": {},
   "source": [
    "**¿Qué utilizaremos como training data y qué como resultado esperado de ese training data? ¿Por qué?**"
   ]
  },
  {
   "cell_type": "markdown",
   "metadata": {},
   "source": [
    "**Respuesta:** x_train será el training y también el resultado esperado"
   ]
  },
  {
   "cell_type": "code",
   "execution_count": 33,
   "metadata": {
    "collapsed": true
   },
   "outputs": [],
   "source": [
    "noisy_input_img = Input(shape=(28, 28, 1))\n",
    "\n",
    "nx = Conv2D(32, (3, 3), activation='relu', padding='same')(noisy_input_img)\n",
    "nx = MaxPooling2D((2, 2), padding='same')(nx)\n",
    "nx = Conv2D(32, (3, 3), activation='relu', padding='same')(nx)\n",
    "noisy_encoded = MaxPooling2D((2, 2), padding='same')(nx)\n",
    "\n",
    "nx = Conv2D(32, (3, 3), activation='relu', padding='same')(noisy_encoded)\n",
    "nx = UpSampling2D((2, 2))(nx)\n",
    "nx = Conv2D(32, (3, 3), activation='relu', padding='same')(nx)\n",
    "nx = UpSampling2D((2, 2))(nx)\n",
    "noisy_decoded = Conv2D(1, (3, 3), activation='sigmoid', padding='same')(nx)\n",
    "\n",
    "noisy_autoencoder = Model(noisy_input_img, noisy_decoded)\n",
    "noisy_autoencoder.compile(optimizer='adadelta', loss='binary_crossentropy')"
   ]
  },
  {
   "cell_type": "code",
   "execution_count": 34,
   "metadata": {},
   "outputs": [
    {
     "name": "stdout",
     "output_type": "stream",
     "text": [
      "Train on 60000 samples, validate on 10000 samples\n",
      "Epoch 1/100\n",
      "60000/60000 [==============================] - 170s - loss: 0.1977 - val_loss: 0.1339\n",
      "Epoch 2/100\n",
      "60000/60000 [==============================] - 172s - loss: 0.1252 - val_loss: 0.1184\n",
      "Epoch 3/100\n",
      "60000/60000 [==============================] - 179s - loss: 0.1155 - val_loss: 0.1122\n",
      "Epoch 4/100\n",
      "60000/60000 [==============================] - 160s - loss: 0.1109 - val_loss: 0.1088\n",
      "Epoch 5/100\n",
      "60000/60000 [==============================] - 176s - loss: 0.1082 - val_loss: 0.1054\n",
      "Epoch 6/100\n",
      "60000/60000 [==============================] - 178s - loss: 0.1063 - val_loss: 0.1051\n",
      "Epoch 7/100\n",
      "60000/60000 [==============================] - 201s - loss: 0.1048 - val_loss: 0.1033\n",
      "Epoch 8/100\n",
      "60000/60000 [==============================] - 258s - loss: 0.1039 - val_loss: 0.1019\n",
      "Epoch 9/100\n",
      "60000/60000 [==============================] - 174s - loss: 0.1031 - val_loss: 0.1033\n",
      "Epoch 10/100\n",
      "60000/60000 [==============================] - 185s - loss: 0.1024 - val_loss: 0.1017\n",
      "Epoch 11/100\n",
      "60000/60000 [==============================] - 174s - loss: 0.1018 - val_loss: 0.1015\n",
      "Epoch 12/100\n",
      "60000/60000 [==============================] - 163s - loss: 0.1012 - val_loss: 0.1010\n",
      "Epoch 13/100\n",
      "60000/60000 [==============================] - 152s - loss: 0.1009 - val_loss: 0.0999\n",
      "Epoch 14/100\n",
      "60000/60000 [==============================] - 176s - loss: 0.1006 - val_loss: 0.1014\n",
      "Epoch 15/100\n",
      "60000/60000 [==============================] - 199s - loss: 0.1001 - val_loss: 0.1001\n",
      "Epoch 16/100\n",
      "60000/60000 [==============================] - 168s - loss: 0.0996 - val_loss: 0.0990\n",
      "Epoch 17/100\n",
      "60000/60000 [==============================] - 162s - loss: 0.0995 - val_loss: 0.0987\n",
      "Epoch 18/100\n",
      "60000/60000 [==============================] - 169s - loss: 0.0992 - val_loss: 0.0984\n",
      "Epoch 19/100\n",
      "60000/60000 [==============================] - 182s - loss: 0.0989 - val_loss: 0.0988\n",
      "Epoch 20/100\n",
      "60000/60000 [==============================] - 174s - loss: 0.0987 - val_loss: 0.0975\n",
      "Epoch 21/100\n",
      "60000/60000 [==============================] - 176s - loss: 0.0984 - val_loss: 0.0981\n",
      "Epoch 22/100\n",
      "60000/60000 [==============================] - 154s - loss: 0.0984 - val_loss: 0.0984\n",
      "Epoch 23/100\n",
      "60000/60000 [==============================] - 156s - loss: 0.0981 - val_loss: 0.0970\n",
      "Epoch 24/100\n",
      "60000/60000 [==============================] - 153s - loss: 0.0980 - val_loss: 0.0976\n",
      "Epoch 25/100\n",
      "60000/60000 [==============================] - 154s - loss: 0.0978 - val_loss: 0.0970\n",
      "Epoch 26/100\n",
      "60000/60000 [==============================] - 163s - loss: 0.0977 - val_loss: 0.0980\n",
      "Epoch 27/100\n",
      "60000/60000 [==============================] - 155s - loss: 0.0976 - val_loss: 0.0965\n",
      "Epoch 28/100\n",
      "60000/60000 [==============================] - 152s - loss: 0.0974 - val_loss: 0.0964\n",
      "Epoch 29/100\n",
      "60000/60000 [==============================] - 154s - loss: 0.0973 - val_loss: 0.0962\n",
      "Epoch 30/100\n",
      "60000/60000 [==============================] - 157s - loss: 0.0971 - val_loss: 0.0973\n",
      "Epoch 31/100\n",
      "60000/60000 [==============================] - 171s - loss: 0.0970 - val_loss: 0.0967\n",
      "Epoch 32/100\n",
      "60000/60000 [==============================] - 2759s - loss: 0.0970 - val_loss: 0.0960\n",
      "Epoch 33/100\n",
      "60000/60000 [==============================] - 199s - loss: 0.0968 - val_loss: 0.0963\n",
      "Epoch 34/100\n",
      "60000/60000 [==============================] - 202s - loss: 0.0967 - val_loss: 0.0972\n",
      "Epoch 35/100\n",
      "60000/60000 [==============================] - 200s - loss: 0.0966 - val_loss: 0.0967\n",
      "Epoch 36/100\n",
      "60000/60000 [==============================] - 192s - loss: 0.0965 - val_loss: 0.0956\n",
      "Epoch 37/100\n",
      "60000/60000 [==============================] - 175s - loss: 0.0964 - val_loss: 0.0958\n",
      "Epoch 38/100\n",
      "60000/60000 [==============================] - 179s - loss: 0.0964 - val_loss: 0.0957\n",
      "Epoch 39/100\n",
      "60000/60000 [==============================] - 179s - loss: 0.0963 - val_loss: 0.0957\n",
      "Epoch 40/100\n",
      "60000/60000 [==============================] - 176s - loss: 0.0962 - val_loss: 0.0960\n",
      "Epoch 41/100\n",
      "60000/60000 [==============================] - 179s - loss: 0.0962 - val_loss: 0.0953\n",
      "Epoch 42/100\n",
      "60000/60000 [==============================] - 178s - loss: 0.0960 - val_loss: 0.0955\n",
      "Epoch 43/100\n",
      "60000/60000 [==============================] - 178s - loss: 0.0960 - val_loss: 0.0957\n",
      "Epoch 44/100\n",
      "60000/60000 [==============================] - 189s - loss: 0.0959 - val_loss: 0.0952\n",
      "Epoch 45/100\n",
      "60000/60000 [==============================] - 182s - loss: 0.0959 - val_loss: 0.0954\n",
      "Epoch 46/100\n",
      "60000/60000 [==============================] - 164s - loss: 0.0958 - val_loss: 0.0952\n",
      "Epoch 47/100\n",
      "60000/60000 [==============================] - 173s - loss: 0.0957 - val_loss: 0.0950\n",
      "Epoch 48/100\n",
      "60000/60000 [==============================] - 182s - loss: 0.0957 - val_loss: 0.0962\n",
      "Epoch 49/100\n",
      "60000/60000 [==============================] - 168s - loss: 0.0957 - val_loss: 0.0953\n",
      "Epoch 50/100\n",
      "60000/60000 [==============================] - 160s - loss: 0.0957 - val_loss: 0.0961\n",
      "Epoch 51/100\n",
      "60000/60000 [==============================] - 172s - loss: 0.0956 - val_loss: 0.0952\n",
      "Epoch 52/100\n",
      "60000/60000 [==============================] - 177s - loss: 0.0955 - val_loss: 0.0950\n",
      "Epoch 53/100\n",
      "60000/60000 [==============================] - 175s - loss: 0.0954 - val_loss: 0.0949\n",
      "Epoch 54/100\n",
      "60000/60000 [==============================] - 173s - loss: 0.0954 - val_loss: 0.0952\n",
      "Epoch 55/100\n",
      "60000/60000 [==============================] - 188s - loss: 0.0954 - val_loss: 0.0949\n",
      "Epoch 56/100\n",
      "60000/60000 [==============================] - 182s - loss: 0.0953 - val_loss: 0.0947\n",
      "Epoch 57/100\n",
      "60000/60000 [==============================] - 180s - loss: 0.0953 - val_loss: 0.0948\n",
      "Epoch 58/100\n",
      "60000/60000 [==============================] - 187s - loss: 0.0952 - val_loss: 0.0946\n",
      "Epoch 59/100\n",
      "60000/60000 [==============================] - 190s - loss: 0.0952 - val_loss: 0.0945\n",
      "Epoch 60/100\n",
      "60000/60000 [==============================] - 190s - loss: 0.0951 - val_loss: 0.0945\n",
      "Epoch 61/100\n",
      "60000/60000 [==============================] - 184s - loss: 0.0952 - val_loss: 0.0946\n",
      "Epoch 62/100\n",
      "60000/60000 [==============================] - 191s - loss: 0.0952 - val_loss: 0.0949\n",
      "Epoch 63/100\n",
      "60000/60000 [==============================] - 183s - loss: 0.0951 - val_loss: 0.0950\n",
      "Epoch 64/100\n",
      "60000/60000 [==============================] - 183s - loss: 0.0951 - val_loss: 0.0945\n",
      "Epoch 65/100\n",
      "60000/60000 [==============================] - 176s - loss: 0.0950 - val_loss: 0.0944\n",
      "Epoch 66/100\n",
      "60000/60000 [==============================] - 179s - loss: 0.0950 - val_loss: 0.0947\n",
      "Epoch 67/100\n",
      "60000/60000 [==============================] - 180s - loss: 0.0949 - val_loss: 0.0950\n",
      "Epoch 68/100\n",
      "60000/60000 [==============================] - 176s - loss: 0.0949 - val_loss: 0.0950\n",
      "Epoch 69/100\n",
      "60000/60000 [==============================] - 174s - loss: 0.0949 - val_loss: 0.0947\n",
      "Epoch 70/100\n",
      "60000/60000 [==============================] - 173s - loss: 0.0948 - val_loss: 0.0947\n",
      "Epoch 71/100\n",
      "60000/60000 [==============================] - 178s - loss: 0.0948 - val_loss: 0.0951\n",
      "Epoch 72/100\n",
      "60000/60000 [==============================] - 186s - loss: 0.0948 - val_loss: 0.0943\n",
      "Epoch 73/100\n",
      "60000/60000 [==============================] - 174s - loss: 0.0947 - val_loss: 0.0942\n",
      "Epoch 74/100\n",
      "60000/60000 [==============================] - 153s - loss: 0.0947 - val_loss: 0.0942\n",
      "Epoch 75/100\n",
      "60000/60000 [==============================] - 153s - loss: 0.0947 - val_loss: 0.0949\n",
      "Epoch 76/100\n",
      "60000/60000 [==============================] - 153s - loss: 0.0947 - val_loss: 0.0944\n",
      "Epoch 77/100\n",
      "60000/60000 [==============================] - 159s - loss: 0.0946 - val_loss: 0.0945\n",
      "Epoch 78/100\n",
      "60000/60000 [==============================] - 157s - loss: 0.0946 - val_loss: 0.0944\n",
      "Epoch 79/100\n",
      "60000/60000 [==============================] - 157s - loss: 0.0946 - val_loss: 0.0941\n",
      "Epoch 80/100\n",
      "60000/60000 [==============================] - 156s - loss: 0.0945 - val_loss: 0.0940\n",
      "Epoch 81/100\n",
      "60000/60000 [==============================] - 156s - loss: 0.0946 - val_loss: 0.0953\n",
      "Epoch 82/100\n",
      "60000/60000 [==============================] - 158s - loss: 0.0946 - val_loss: 0.0941\n",
      "Epoch 83/100\n",
      "60000/60000 [==============================] - 154s - loss: 0.0945 - val_loss: 0.0950\n",
      "Epoch 84/100\n",
      "60000/60000 [==============================] - 154s - loss: 0.0944 - val_loss: 0.0941\n",
      "Epoch 85/100\n",
      "60000/60000 [==============================] - 154s - loss: 0.0945 - val_loss: 0.0946\n",
      "Epoch 86/100\n",
      "60000/60000 [==============================] - 155s - loss: 0.0944 - val_loss: 0.0939\n",
      "Epoch 87/100\n",
      "60000/60000 [==============================] - 154s - loss: 0.0944 - val_loss: 0.0939\n",
      "Epoch 88/100\n",
      "60000/60000 [==============================] - 154s - loss: 0.0944 - val_loss: 0.0943\n",
      "Epoch 89/100\n",
      "60000/60000 [==============================] - 154s - loss: 0.0944 - val_loss: 0.0943\n",
      "Epoch 90/100\n",
      "60000/60000 [==============================] - 155s - loss: 0.0943 - val_loss: 0.0942\n",
      "Epoch 91/100\n",
      "60000/60000 [==============================] - 164s - loss: 0.0943 - val_loss: 0.0941\n",
      "Epoch 92/100\n",
      "60000/60000 [==============================] - 154s - loss: 0.0944 - val_loss: 0.0939\n",
      "Epoch 93/100\n",
      "60000/60000 [==============================] - 154s - loss: 0.0943 - val_loss: 0.0938\n",
      "Epoch 94/100\n",
      "60000/60000 [==============================] - 157s - loss: 0.0943 - val_loss: 0.0941\n",
      "Epoch 95/100\n",
      "60000/60000 [==============================] - 155s - loss: 0.0943 - val_loss: 0.0938\n",
      "Epoch 96/100\n",
      "60000/60000 [==============================] - 155s - loss: 0.0942 - val_loss: 0.0937\n",
      "Epoch 97/100\n",
      "60000/60000 [==============================] - 164s - loss: 0.0942 - val_loss: 0.0947\n",
      "Epoch 98/100\n",
      "60000/60000 [==============================] - 154s - loss: 0.0942 - val_loss: 0.0937\n",
      "Epoch 99/100\n",
      "60000/60000 [==============================] - 153s - loss: 0.0942 - val_loss: 0.0939\n",
      "Epoch 100/100\n",
      "60000/60000 [==============================] - 153s - loss: 0.0942 - val_loss: 0.0937\n"
     ]
    },
    {
     "data": {
      "text/plain": [
       "<keras.callbacks.History at 0x12b4787f0>"
      ]
     },
     "execution_count": 34,
     "metadata": {},
     "output_type": "execute_result"
    }
   ],
   "source": [
    "### SOLUCIÓN\n",
    "noisy_training_data = x_train_noisy\n",
    "nosiy_training_labels = x_train_2\n",
    "noisy_test_data = x_test_noisy\n",
    "noisy_test_labels = x_test_2\n",
    "#Entrenamiento\n",
    "noisy_autoencoder.fit(noisy_training_data, nosiy_training_labels,\n",
    "                epochs=100,\n",
    "                batch_size=128,\n",
    "                shuffle=True,\n",
    "                validation_data=(noisy_test_data, noisy_test_labels))"
   ]
  },
  {
   "cell_type": "code",
   "execution_count": 35,
   "metadata": {
    "collapsed": true
   },
   "outputs": [],
   "source": [
    "#Guardo el modelo\n",
    "noisy_autoencoder.save('noisy_autoencoder_saved.h5')\n",
    "\n",
    "# Levanto modelos (arquitectura y pesos) de un archivo HDF5 guardado para evitar entrenamiento\n",
    "noisy_autoencoder = load_model('noisy_autoencoder_saved.h5')"
   ]
  },
  {
   "cell_type": "markdown",
   "metadata": {},
   "source": [
    "Ahora usar el nuevo autoencoder para reconstruir la imágen original a partir de las imágenes ruidosas."
   ]
  },
  {
   "cell_type": "code",
   "execution_count": 36,
   "metadata": {
    "collapsed": true
   },
   "outputs": [],
   "source": [
    "### SOLUCIÓN\n",
    "noisy_decoded_imgs = noisy_autoencoder.predict(x_train_noisy)"
   ]
  },
  {
   "cell_type": "code",
   "execution_count": 37,
   "metadata": {},
   "outputs": [
    {
     "data": {
      "image/png": "[encoded data removed]",
      "text/plain": [
       "<matplotlib.figure.Figure at 0x12cbf29e8>"
      ]
     },
     "metadata": {},
     "output_type": "display_data"
    }
   ],
   "source": [
    "#Grafico el resultado\n",
    "n = 10\n",
    "plt.figure(figsize=(20, 4))\n",
    "for i in range(n):\n",
    "    # Original\n",
    "    ax = plt.subplot(2, n, i + 1)\n",
    "    plt.imshow(x_train_noisy[i].reshape(28, 28))\n",
    "    plt.gray()\n",
    "    ax.get_xaxis().set_visible(False)\n",
    "    ax.get_yaxis().set_visible(False)\n",
    "    \n",
    "    # Reconstrucción\n",
    "    ax = plt.subplot(2, n, i + n + 1)\n",
    "    plt.imshow(noisy_decoded_imgs[i].reshape(28, 28))\n",
    "    plt.gray()\n",
    "    ax.get_xaxis().set_visible(False)\n",
    "    ax.get_yaxis().set_visible(False)\n",
    "plt.show()"
   ]
  }
 ],
 "metadata": {
  "anaconda-cloud": {},
  "kernelspec": {
   "display_name": "Python 3",
   "language": "python",
   "name": "python3"
  },
  "language_info": {
   "codemirror_mode": {
    "name": "ipython",
    "version": 3
   },
   "file_extension": ".py",
   "mimetype": "text/x-python",
   "name": "python",
   "nbconvert_exporter": "python",
   "pygments_lexer": "ipython3",
   "version": "3.6.3"
  }
 },
 "nbformat": 4,
 "nbformat_minor": 1
}
